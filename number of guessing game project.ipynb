{
 "cells": [
  {
   "cell_type": "code",
   "execution_count": 1,
   "id": "a2b2f2e0",
   "metadata": {},
   "outputs": [
    {
     "name": "stdout",
     "output_type": "stream",
     "text": [
      "number of gusses is limited to only 8 times:\n",
      "guess the number:\n",
      "20\n",
      "you enter greater number please input smaller number.\n",
      "\n",
      "7 number of gusses left\n",
      "guess the number:\n",
      "10\n",
      "you enter less number please input greater number.\n",
      "\n",
      "6 number of gusses left\n",
      "guess the number:\n",
      "12\n",
      "you enter less number please input greater number.\n",
      "\n",
      "5 number of gusses left\n",
      "guess the number:\n",
      "15\n",
      "you enter less number please input greater number.\n",
      "\n",
      "4 number of gusses left\n",
      "guess the number:\n",
      "16\n",
      "you enter less number please input greater number.\n",
      "\n",
      "3 number of gusses left\n",
      "guess the number:\n",
      "17\n",
      "you enter less number please input greater number.\n",
      "\n",
      "2 number of gusses left\n",
      "guess the number:\n",
      "18\n",
      "you won\n",
      "\n",
      "7 number of guesses he took to finish.\n"
     ]
    }
   ],
   "source": [
    "n=19\n",
    "number_of_guesses=1\n",
    "print(\"number of gusses is limited to only 8 times:\")\n",
    "while(number_of_guesses<=8):\n",
    "    guess_number=int(input(\"guess the number:\\n\"))\n",
    "    if guess_number<18:\n",
    "        print(\"you enter less number please input greater number.\\n\")\n",
    "    elif guess_number>18:\n",
    "        print(\"you enter greater number please input smaller number.\\n\")\n",
    "    else:\n",
    "        print(\"you won\\n\")\n",
    "        print(number_of_guesses,\"number of guesses he took to finish.\")\n",
    "        break\n",
    "    print(8-number_of_guesses,\"number of gusses left\")\n",
    "    number_of_guesses= number_of_guesses+1\n",
    "if(number_of_guesses>8):\n",
    "    print(\"Game over\")"
   ]
  },
  {
   "cell_type": "code",
   "execution_count": null,
   "id": "d1808465",
   "metadata": {},
   "outputs": [],
   "source": []
  }
 ],
 "metadata": {
  "kernelspec": {
   "display_name": "Python 3",
   "language": "python",
   "name": "python3"
  },
  "language_info": {
   "codemirror_mode": {
    "name": "ipython",
    "version": 3
   },
   "file_extension": ".py",
   "mimetype": "text/x-python",
   "name": "python",
   "nbconvert_exporter": "python",
   "pygments_lexer": "ipython3",
   "version": "3.8.8"
  }
 },
 "nbformat": 4,
 "nbformat_minor": 5
}
